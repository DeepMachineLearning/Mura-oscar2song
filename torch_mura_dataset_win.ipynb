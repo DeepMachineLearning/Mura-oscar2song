{
 "cells": [
  {
   "cell_type": "code",
   "execution_count": 1,
   "metadata": {},
   "outputs": [
    {
     "ename": "ModuleNotFoundError",
     "evalue": "No module named 'torch'",
     "output_type": "error",
     "traceback": [
      "\u001b[1;31m---------------------------------------------------------------------------\u001b[0m",
      "\u001b[1;31mModuleNotFoundError\u001b[0m                       Traceback (most recent call last)",
      "\u001b[1;32m<ipython-input-1-42e77f7c9bad>\u001b[0m in \u001b[0;36m<module>\u001b[1;34m()\u001b[0m\n\u001b[1;32m----> 1\u001b[1;33m \u001b[1;32mimport\u001b[0m \u001b[0mtorch\u001b[0m\u001b[1;33m.\u001b[0m\u001b[0mutils\u001b[0m\u001b[1;33m.\u001b[0m\u001b[0mdata\u001b[0m \u001b[1;32mas\u001b[0m \u001b[0mdata\u001b[0m\u001b[1;33m\u001b[0m\u001b[0m\n\u001b[0m\u001b[0;32m      2\u001b[0m \u001b[1;32mimport\u001b[0m \u001b[0mcsv\u001b[0m\u001b[1;33m\u001b[0m\u001b[0m\n\u001b[0;32m      3\u001b[0m \u001b[1;32mfrom\u001b[0m \u001b[0mPIL\u001b[0m \u001b[1;32mimport\u001b[0m \u001b[0mImage\u001b[0m \u001b[1;32mas\u001b[0m \u001b[0mPImage\u001b[0m\u001b[1;33m\u001b[0m\u001b[0m\n\u001b[0;32m      4\u001b[0m \u001b[1;32mimport\u001b[0m \u001b[0mtorchvision\u001b[0m\u001b[1;33m.\u001b[0m\u001b[0mtransforms\u001b[0m \u001b[1;32mas\u001b[0m \u001b[0mtransforms\u001b[0m\u001b[1;33m\u001b[0m\u001b[0m\n\u001b[0;32m      5\u001b[0m \u001b[1;32mimport\u001b[0m \u001b[0mnumpy\u001b[0m \u001b[1;32mas\u001b[0m \u001b[0mnp\u001b[0m\u001b[1;33m\u001b[0m\u001b[0m\n",
      "\u001b[1;31mModuleNotFoundError\u001b[0m: No module named 'torch'"
     ]
    }
   ],
   "source": [
    "import torch.utils.data as data\n",
    "import csv\n",
    "from PIL import Image as PImage\n",
    "import torchvision.transforms as transforms\n",
    "import numpy as np\n",
    "\n",
    "\n",
    "class CD_Dataset(data.Dataset):\n",
    "    def __init__(self, src, path_csv, label_csv, transform=None):\n",
    "        with open(path_csv, 'r') as f:\n",
    "            path_reader = csv.reader(f)\n",
    "            p_list = list(path_reader)\n",
    "           \n",
    "        with open(label_csv, 'r') as f:\n",
    "            label_reader = csv.reader(f)\n",
    "            l_list = list(label_reader)\n",
    "\n",
    "        self.labels = []\n",
    "        self.pathes = []\n",
    "\n",
    "        for i in range(len(p_list)):\n",
    "            self.pathes.append(*p_list[i])\n",
    "            self.pathes[i] = src + self.pathes[i].replace('/','\\\\')\n",
    "            #print(self.pathes[i])\n",
    "        for i in range(len(l_list)):\n",
    "            self.labels.append(*l_list[i][1])\n",
    "    \n",
    "        self.transform = transform\n",
    "\n",
    "\n",
    "    def __getitem__(self, idx):\n",
    "        img_path = self.pathes[idx]\n",
    "        category = self.labels[idx]\n",
    "        image = PImage.open(img_path).convert('RGB')\n",
    "        \n",
    "        if self.transform:\n",
    "            image = self.transform(image)\n",
    "    \n",
    "        return image, category\n",
    "\n",
    "    def __len__(self):\n",
    "        return len(self.labels)\n",
    "\n",
    "img_path = 'C:\\\\Users\\\\oscar\\\\ML\\\\mura-team2\\\\dataMURA-v1.1\\\\train_image_paths.csv'\n",
    "label_path = 'C:\\\\Users\\\\oscar\\\\ML\\\\mura-team2\\\\data\\\\MURA-v1.1\\\\train_labeled_studies.csv'\n",
    "\n",
    "src = 'C:\\\\Users\\\\oscar\\\\ML\\\\mura-team2\\\\dataMURA-v1.1\\\\'\n",
    "\n",
    "\n",
    "transform_image = transforms.Compose([\n",
    "        transforms.Resize ([256, 256]),\n",
    "        transforms.ToTensor(),\n",
    "        transforms.Normalize((0.5,0.5,0.5), (0.5,0.5,0.5))\n",
    "])\n",
    "\n",
    "MURA_dataset = CD_Dataset(src,img_path, label_path,transform=transform_image)\n",
    "\n",
    "MURA_loader = data.DataLoader(MURA_dataset, batch_size=2)\n",
    "\n",
    "image,label = next(iter(MURA_loader))\n",
    "\n",
    "print(image)\n",
    "print(label)\n"
   ]
  },
  {
   "cell_type": "code",
   "execution_count": null,
   "metadata": {},
   "outputs": [],
   "source": []
  }
 ],
 "metadata": {
  "kernelspec": {
   "display_name": "Python 3",
   "language": "python",
   "name": "python3"
  },
  "language_info": {
   "codemirror_mode": {
    "name": "ipython",
    "version": 3
   },
   "file_extension": ".py",
   "mimetype": "text/x-python",
   "name": "python",
   "nbconvert_exporter": "python",
   "pygments_lexer": "ipython3",
   "version": "3.6.5"
  }
 },
 "nbformat": 4,
 "nbformat_minor": 2
}
