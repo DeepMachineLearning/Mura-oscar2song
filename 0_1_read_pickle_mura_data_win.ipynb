{
 "cells": [
  {
   "cell_type": "code",
   "execution_count": 1,
   "metadata": {},
   "outputs": [
    {
     "name": "stderr",
     "output_type": "stream",
     "text": [
      "C:\\Users\\oscar\\Anaconda3\\lib\\site-packages\\h5py\\__init__.py:36: FutureWarning: Conversion of the second argument of issubdtype from `float` to `np.floating` is deprecated. In future, it will be treated as `np.float64 == np.dtype(float).type`.\n",
      "  from ._conv import register_converters as _register_converters\n",
      "INFO:utils.mura_utils:reading valid image paths\n",
      "100% (3197 of 3197) |####################| Elapsed Time: 0:00:12 Time:  0:00:12\n",
      "INFO:utils.mura_utils:stacking images\n",
      "INFO:utils.mura_utils:picking images\n",
      "INFO:utils.utils:saving to data/MURA-v1.1/x_valid.pkl\n",
      "INFO:utils.utils:saving to data/MURA-v1.1/y_valid.pkl\n",
      "INFO:utils.mura_utils:reading train image paths\n",
      "100% (36808 of 36808) |##################| Elapsed Time: 0:03:57 Time:  0:03:57\n",
      "INFO:utils.mura_utils:stacking images\n",
      "INFO:utils.mura_utils:picking images\n",
      "INFO:utils.utils:saving to data/MURA-v1.1/x_train.pkl\n",
      "INFO:utils.utils:saving to data/MURA-v1.1/y_train.pkl\n"
     ]
    }
   ],
   "source": [
    "%load_ext autotime\n",
    "\n",
    "from pathlib import Path\n",
    "import utils\n",
    "\n",
    "mura_path = Path('data\\\\MURA-v1.1')\n",
    "\n",
    "utils.read_pickle_mura(mura_path, 'valid', target_size=128)\n",
    "\n",
    "\n",
    "utils.read_pickle_mura(mura_path, 'train', target_size=128)\n"
   ]
  },
  {
   "cell_type": "code",
   "execution_count": null,
   "metadata": {},
   "outputs": [],
   "source": []
  }
 ],
 "metadata": {
  "kernelspec": {
   "display_name": "Python 3",
   "language": "python",
   "name": "python3"
  },
  "language_info": {
   "codemirror_mode": {
    "name": "ipython",
    "version": 3
   },
   "file_extension": ".py",
   "mimetype": "text/x-python",
   "name": "python",
   "nbconvert_exporter": "python",
   "pygments_lexer": "ipython3",
   "version": "3.6.5"
  }
 },
 "nbformat": 4,
 "nbformat_minor": 2
}
